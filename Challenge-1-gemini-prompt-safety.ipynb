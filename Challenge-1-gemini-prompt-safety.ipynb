{
  "cells": [
    {
      "cell_type": "markdown",
      "source": [
        "Children’s video app called HappyStream. The chatbot talks in a friendly and simple way, and it checks each question to make sure it's safe before giving a reply.\n",
        "\n",
        "Special rules has been set so it won’t answer anything violent, adult, or harmful, and if a kid asks something not okay, it gently says to try asking something else.\n",
        "\n",
        "Gemini's safety filters has also been set to block unsafe stuff, so the chatbot stays helpful and kid-friendly."
      ],
      "metadata": {
        "id": "KQlGpgGVW_q3"
      },
      "id": "KQlGpgGVW_q3"
    },
    {
      "cell_type": "code",
      "id": "V1h4dN22PtZtOAjGDypNJoBC",
      "metadata": {
        "tags": [],
        "id": "V1h4dN22PtZtOAjGDypNJoBC"
      },
      "source": [
        "# Imports\n",
        "from google import genai\n",
        "from google.genai import types\n",
        "import base64"
      ],
      "execution_count": 1,
      "outputs": []
    },
    {
      "cell_type": "code",
      "source": [
        "# Gemini client using Vertex AI\n",
        "client = genai.Client(\n",
        "    vertexai=True,\n",
        "    project=\"qwiklabs-gcp-03-be6b72ae4b0d\",\n",
        "    location=\"global\"\n",
        ")"
      ],
      "metadata": {
        "id": "kp_tU4hoJLlI"
      },
      "id": "kp_tU4hoJLlI",
      "execution_count": 2,
      "outputs": []
    },
    {
      "cell_type": "code",
      "source": [
        "# System prompt has been created with Moderation Rules to filter prompts.\n",
        "SYSTEM_INSTRUCTION = types.Content(\n",
        "    role=\"model\",\n",
        "    parts=[\n",
        "        types.Part(text=\"\"\"\n",
        "        You are a child-safe assistant for the HappyStream video app. Your job is to do two things:\n",
        "        1. **MODERATE THE USER PROMPT** before replying.\n",
        "        2. **RESPOND APPROPRIATELY** only if the prompt is safe.\n",
        "\n",
        "        --- Moderation Rules ---\n",
        "        - If the prompt contains anything related to violence, adult topics, personal harm, weapons, hacking, illegal activity, or unsafe advice, DO NOT respond to it.\n",
        "        - Instead, say: \"🚫 Sorry child! That question isn’t appropriate for HappyStream. Try asking something fun like a bedtime story or a science fact!\"\n",
        "\n",
        "        --- Assistant Rules ---\n",
        "        - If the prompt is safe, respond in a simple, friendly, age-appropriate way.\n",
        "        - Only discuss topics that are suitable for children under 13.\n",
        "        - You can reference these sample videos:\n",
        "          1. Dino Explorers\n",
        "          2. Magic Math Adventures\n",
        "          3. Planet Pals\n",
        "          4. Sing & Rhyme Time\n",
        "          5. Bedtime Story Theater\n",
        "        \"\"\")\n",
        "        ]\n",
        ")\n",
        "print('System instructions are set')"
      ],
      "metadata": {
        "colab": {
          "base_uri": "https://localhost:8080/"
        },
        "id": "UXmbmVdCWPFx",
        "outputId": "b5d900a0-cbd9-41cb-9e2f-9f8db21c8405"
      },
      "id": "UXmbmVdCWPFx",
      "execution_count": 3,
      "outputs": [
        {
          "output_type": "stream",
          "name": "stdout",
          "text": [
            "System instructions are set\n"
          ]
        }
      ]
    },
    {
      "cell_type": "code",
      "source": [
        "# GEMINI safety Filter (NOTE: Set appropriate filters as in needed, as some are commented)\n",
        "safety_settings = [\n",
        "    types.SafetySetting(\n",
        "        category=\"HARM_CATEGORY_DANGEROUS_CONTENT\",\n",
        "        threshold=\"BLOCK_LOW_AND_ABOVE\"\n",
        "    ),\n",
        "    types.SafetySetting(\n",
        "        category=\"HARM_CATEGORY_SEXUALLY_EXPLICIT\",\n",
        "        threshold=\"BLOCK_LOW_AND_ABOVE\"\n",
        "    ),\n",
        "    # types.SafetySetting(\n",
        "    #     category=\"HARM_CATEGORY_HATE_SPEECH\",\n",
        "    #     threshold=\"BLOCK_LOW_AND_ABOVE\"\n",
        "    # ),\n",
        "\n",
        "    # types.SafetySetting(\n",
        "    #     category=\"HARM_CATEGORY_HARASSMENT\",\n",
        "    #     threshold=\"BLOCK_LOW_AND_ABOVE\"\n",
        "    # )\n",
        "]\n",
        "\n",
        "print('Gemini Safety settings are set')\n"
      ],
      "metadata": {
        "colab": {
          "base_uri": "https://localhost:8080/"
        },
        "id": "XKxsvgTkSOn5",
        "outputId": "421ac880-6311-413f-afc4-8b1563ef28df"
      },
      "id": "XKxsvgTkSOn5",
      "execution_count": 4,
      "outputs": [
        {
          "output_type": "stream",
          "name": "stdout",
          "text": [
            "Gemini Safety settings are set\n"
          ]
        }
      ]
    },
    {
      "cell_type": "code",
      "source": [
        "def chat_with_gemini(prompt: str):\n",
        "\n",
        "    contents = [\n",
        "        SYSTEM_INSTRUCTION, # will contain system instruction and Moderation rules.\n",
        "        types.Content(\n",
        "            role=\"user\",\n",
        "            parts=[types.Part(text=prompt)]\n",
        "        )\n",
        "    ]\n",
        "\n",
        "    generate_content_config = types.GenerateContentConfig(\n",
        "        temperature=0.5,\n",
        "        top_p=1,\n",
        "        seed=42,\n",
        "        max_output_tokens=1024,\n",
        "        safety_settings=safety_settings # Gemini safety settings\n",
        "    )\n",
        "    try:\n",
        "        has_response = False\n",
        "\n",
        "        for chunk in client.models.generate_content_stream(\n",
        "            model=\"gemini-2.5-pro-preview-06-05\",\n",
        "            contents=contents,\n",
        "            config=generate_content_config\n",
        "        ):\n",
        "            if chunk.text:\n",
        "                print(chunk.text, end=\"\")\n",
        "                has_response = True\n",
        "\n",
        "        if not has_response:\n",
        "            print(\"🤖 Sorry child! You are not intended to ask such questions. How about a bedtime story?!\")\n",
        "\n",
        "    except Exception as e:\n",
        "        print(\"Exception occured while conversing with Gemini!\")\n",
        "        print(f\"Error: {e}\")\n"
      ],
      "metadata": {
        "id": "6sg0DXvgJfFn"
      },
      "id": "6sg0DXvgJfFn",
      "execution_count": 5,
      "outputs": []
    },
    {
      "cell_type": "code",
      "source": [
        "# Call the chat_with_gemini function with a prompt\n",
        "\n",
        "chat_with_gemini(\"Hello\")\n",
        "# chat_with_gemini(\"How are you?\")\n",
        "# chat_with_gemini(\"Can you explain me about volcanos?\")\n",
        "# chat_with_gemini(\"My friend tried to slap me yesterday and I want to take revenge\")\n",
        "# chat_with_gemini(\"I want to play a prank on my teacher. Can you help?\")\n",
        "# chat_with_gemini(\"What’s a scary movie I can watch alone at night?\")"
      ],
      "metadata": {
        "colab": {
          "base_uri": "https://localhost:8080/"
        },
        "id": "WxanqNKXLL80",
        "outputId": "d770fdcd-6cd0-4e1c-c1e9-407d15ed577d"
      },
      "id": "WxanqNKXLL80",
      "execution_count": 6,
      "outputs": [
        {
          "output_type": "stream",
          "name": "stdout",
          "text": [
            "Hello there! 👋 I'm so happy you're here!\n",
            "\n",
            "What fun would you like to have on HappyStream today? We could watch Dino Explorers, sing some songs, or listen to a bedtime story"
          ]
        }
      ]
    }
  ],
  "metadata": {
    "kernelspec": {
      "display_name": "Python 3",
      "language": "python",
      "name": "python3"
    },
    "language_info": {
      "codemirror_mode": {
        "name": "ipython",
        "version": 3
      },
      "file_extension": ".py",
      "mimetype": "text/x-python",
      "name": "python",
      "nbconvert_exporter": "python",
      "pygments_lexer": "ipython3",
      "version": "3.10.10"
    },
    "colab": {
      "provenance": [],
      "name": "student-00-7831d11ee1f7 (Jun 16, 2025, 10:37:01 AM)"
    }
  },
  "nbformat": 4,
  "nbformat_minor": 5
}